{
  "nbformat": 4,
  "nbformat_minor": 0,
  "metadata": {
    "colab": {
      "name": "Untitled14.ipynb",
      "provenance": []
    },
    "kernelspec": {
      "name": "python3",
      "display_name": "Python 3"
    },
    "language_info": {
      "name": "python"
    }
  },
  "cells": [
    {
      "cell_type": "markdown",
      "metadata": {
        "id": "483WnLlFC8DC"
      },
      "source": [
        "##Unit Impulse "
      ]
    },
    {
      "cell_type": "markdown",
      "metadata": {
        "id": "clT9DTlXEQxj"
      },
      "source": [
        ""
      ]
    },
    {
      "cell_type": "code",
      "metadata": {
        "id": "V_LBWjch_rrc"
      },
      "source": [
        "import numpy as np\n",
        "import matplotlib.pyplot as plt"
      ],
      "execution_count": 28,
      "outputs": []
    },
    {
      "cell_type": "code",
      "metadata": {
        "id": "unn7tXEK_u_N"
      },
      "source": [
        "def unit_impulse(a, n):\n",
        "    delta =[]\n",
        "    for sample in n:\n",
        "        if sample == a:\n",
        "            delta.append(1)\n",
        "        else:\n",
        "            delta.append(0)\n",
        "              \n",
        "    return delta"
      ],
      "execution_count": 29,
      "outputs": []
    },
    {
      "cell_type": "code",
      "metadata": {
        "colab": {
          "base_uri": "https://localhost:8080/",
          "height": 349
        },
        "id": "hlxU5fEF_ytE",
        "outputId": "f8661874-c767-4a73-914e-d8148daad6fb"
      },
      "source": [
        "a = 1\n",
        "UL = 5\n",
        "LL = -5\n",
        "n = np.arange(LL, UL, 1)\n",
        "d = unit_impulse(a, n)\n",
        "plt.stem(n, d)\n",
        "plt.xlabel('n')\n",
        "plt.xticks(np.arange(LL, UL, 1))\n",
        "plt.yticks([0, 1])\n",
        "plt.ylabel('d[n]')\n",
        "plt.title('Unit Impulse d[4]')\n",
        "plt.savefig(\"UnitImpulse.png\")"
      ],
      "execution_count": 30,
      "outputs": [
        {
          "output_type": "stream",
          "name": "stderr",
          "text": [
            "/usr/local/lib/python3.7/dist-packages/ipykernel_launcher.py:6: UserWarning: In Matplotlib 3.3 individual lines on a stem plot will be added as a LineCollection instead of individual lines. This significantly improves the performance of a stem plot. To remove this warning and switch to the new behaviour, set the \"use_line_collection\" keyword argument to True.\n",
            "  \n"
          ]
        },
        {
          "output_type": "display_data",
          "data": {
            "image/png": "[encoded data removed]",
            "text/plain": [
              "<Figure size 432x288 with 1 Axes>"
            ]
          },
          "metadata": {
            "needs_background": "light"
          }
        }
      ]
    },
    {
      "cell_type": "markdown",
      "metadata": {
        "id": "tHkh3kisDbN2"
      },
      "source": [
        "## Unit Step"
      ]
    },
    {
      "cell_type": "code",
      "metadata": {
        "id": "W3Q0FC0HAEj3"
      },
      "source": [
        "def unit_step(a, n):\n",
        "    unit =[]\n",
        "    for sample in n:\n",
        "        if sample<a:\n",
        "            unit.append(0)\n",
        "        else:\n",
        "            unit.append(1)\n",
        "    return(unit)"
      ],
      "execution_count": 31,
      "outputs": []
    },
    {
      "cell_type": "code",
      "metadata": {
        "colab": {
          "base_uri": "https://localhost:8080/",
          "height": 349
        },
        "id": "iqAYepimAGAH",
        "outputId": "7eb13ab0-0b95-423c-a1bc-f29f12710a1c"
      },
      "source": [
        "a = 2\n",
        "UL = 5\n",
        "LL = -5\n",
        "n = np.arange(LL, UL, 1)\n",
        "unit = unit_step(a, n)\n",
        "plt.stem(n, unit)\n",
        "plt.xlabel('n')\n",
        "plt.xticks(np.arange(LL, UL, 1))\n",
        "plt.yticks([0, 1])\n",
        "plt.ylabel('u[n]')\n",
        "plt.title('Unit step u[n-a]')\n",
        "plt.savefig('UnitStep.png')"
      ],
      "execution_count": 32,
      "outputs": [
        {
          "output_type": "stream",
          "name": "stderr",
          "text": [
            "/usr/local/lib/python3.7/dist-packages/ipykernel_launcher.py:6: UserWarning: In Matplotlib 3.3 individual lines on a stem plot will be added as a LineCollection instead of individual lines. This significantly improves the performance of a stem plot. To remove this warning and switch to the new behaviour, set the \"use_line_collection\" keyword argument to True.\n",
            "  \n"
          ]
        },
        {
          "output_type": "display_data",
          "data": {
            "image/png": "[encoded data removed]",
            "text/plain": [
              "<Figure size 432x288 with 1 Axes>"
            ]
          },
          "metadata": {
            "needs_background": "light"
          }
        }
      ]
    },
    {
      "cell_type": "markdown",
      "metadata": {
        "id": "kAiNoZcjAW7g"
      },
      "source": [
        ""
      ]
    },
    {
      "cell_type": "markdown",
      "metadata": {
        "id": "NyCQK6yTDjMh"
      },
      "source": [
        "##Ramp"
      ]
    },
    {
      "cell_type": "code",
      "metadata": {
        "id": "NLIpF1jpAZeE"
      },
      "source": [
        "def unit_ramp(n):\n",
        "    ramp =[]\n",
        "    for sample in n:\n",
        "        if sample<0:\n",
        "            ramp.append(0)\n",
        "        else:\n",
        "            ramp.append(sample)\n",
        "    return ramp"
      ],
      "execution_count": 33,
      "outputs": []
    },
    {
      "cell_type": "code",
      "metadata": {
        "colab": {
          "base_uri": "https://localhost:8080/",
          "height": 349
        },
        "id": "K3XF5Pv5Ad04",
        "outputId": "859b18a5-3cc6-49b9-9409-55bbff2d9fbb"
      },
      "source": [
        "UL = 5\n",
        "LL = -5\n",
        "n = np.arange(LL, UL, 1)\n",
        "r = unit_ramp(n)\n",
        "plt.stem(n, r)\n",
        "plt.xlabel('n')\n",
        "plt.xticks(np.arange(LL, UL, 1))\n",
        "plt.yticks([0, UL, 1])\n",
        "plt.ylabel('r[n]')\n",
        "plt.title('Unit Ramp r[n]')\n",
        "plt.savefig(\"UnitRamp.png\")"
      ],
      "execution_count": 34,
      "outputs": [
        {
          "output_type": "stream",
          "name": "stderr",
          "text": [
            "/usr/local/lib/python3.7/dist-packages/ipykernel_launcher.py:5: UserWarning: In Matplotlib 3.3 individual lines on a stem plot will be added as a LineCollection instead of individual lines. This significantly improves the performance of a stem plot. To remove this warning and switch to the new behaviour, set the \"use_line_collection\" keyword argument to True.\n",
            "  \"\"\"\n"
          ]
        },
        {
          "output_type": "display_data",
          "data": {
            "image/png": "[encoded data removed]",
            "text/plain": [
              "<Figure size 432x288 with 1 Axes>"
            ]
          },
          "metadata": {
            "needs_background": "light"
          }
        }
      ]
    },
    {
      "cell_type": "markdown",
      "metadata": {
        "id": "ifnFfKg8DmiR"
      },
      "source": [
        "## Exponential Signal"
      ]
    },
    {
      "cell_type": "markdown",
      "metadata": {
        "id": "gCnmcpolEXeA"
      },
      "source": [
        ""
      ]
    },
    {
      "cell_type": "code",
      "metadata": {
        "id": "ZhM7Rv-DAtVU"
      },
      "source": [
        "def exponential(a, n):\n",
        "    expo =[]\n",
        "    for sample in n:\n",
        "        expo.append(np.exp(a * sample))\n",
        "    return (expo)"
      ],
      "execution_count": 35,
      "outputs": []
    },
    {
      "cell_type": "code",
      "metadata": {
        "colab": {
          "base_uri": "https://localhost:8080/",
          "height": 349
        },
        "id": "GHdlWeTLB8Q0",
        "outputId": "6f7dab37-4a47-47e8-e81e-db081ff3e2b8"
      },
      "source": [
        "a = 1\n",
        "UL = 2\n",
        "LL = -2\n",
        "n = np.arange(LL, UL, 0.2)\n",
        "x = exponential(a, n)\n",
        "plt.stem(n, x)\n",
        "plt.xlabel('n')\n",
        "plt.xticks(np.arange(LL, UL, 0.2))\n",
        "# plt.yticks([0, UL, 1])\n",
        "plt.ylabel('x[n]')\n",
        "plt.title('Exponential Signal e**(an)')\n",
        "plt.savefig(\"Exponential.png\")"
      ],
      "execution_count": 36,
      "outputs": [
        {
          "output_type": "stream",
          "name": "stderr",
          "text": [
            "/usr/local/lib/python3.7/dist-packages/ipykernel_launcher.py:6: UserWarning: In Matplotlib 3.3 individual lines on a stem plot will be added as a LineCollection instead of individual lines. This significantly improves the performance of a stem plot. To remove this warning and switch to the new behaviour, set the \"use_line_collection\" keyword argument to True.\n",
            "  \n"
          ]
        },
        {
          "output_type": "display_data",
          "data": {
            "image/png": "[encoded data removed]",
            "text/plain": [
              "<Figure size 432x288 with 1 Axes>"
            ]
          },
          "metadata": {
            "needs_background": "light"
          }
        }
      ]
    }
  ]
}