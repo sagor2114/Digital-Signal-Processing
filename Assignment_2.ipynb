{
  "nbformat": 4,
  "nbformat_minor": 0,
  "metadata": {
    "colab": {
      "name": "Untitled15.ipynb",
      "provenance": []
    },
    "kernelspec": {
      "name": "python3",
      "display_name": "Python 3"
    },
    "language_info": {
      "name": "python"
    }
  },
  "cells": [
    {
      "cell_type": "code",
      "metadata": {
        "id": "gTHaJy5MEG9y"
      },
      "source": [
        "import numpy as np\n",
        "import scipy as sy\n",
        "from matplotlib import pyplot as plt"
      ],
      "execution_count": 36,
      "outputs": []
    },
    {
      "cell_type": "code",
      "metadata": {
        "id": "bvymE2xfFgkY"
      },
      "source": [
        "h = [1, 2, 2,3,1];"
      ],
      "execution_count": 37,
      "outputs": []
    },
    {
      "cell_type": "code",
      "metadata": {
        "id": "0FF_6P6OFjih"
      },
      "source": [
        "x = [1,2,3,1,-1];"
      ],
      "execution_count": 38,
      "outputs": []
    },
    {
      "cell_type": "code",
      "metadata": {
        "id": "Z0MB4kjCFojq"
      },
      "source": [
        "N1 = len(x)\n",
        "N2 = len(h)\n",
        "N = N1+N2-1\n",
        "y = np.zeros(N)"
      ],
      "execution_count": 39,
      "outputs": []
    },
    {
      "cell_type": "code",
      "metadata": {
        "id": "iazkglcmFrJ5"
      },
      "source": [
        "y1 = np.convolve(x,h)"
      ],
      "execution_count": 40,
      "outputs": []
    },
    {
      "cell_type": "code",
      "metadata": {
        "id": "x4lgfvknFr0r"
      },
      "source": [
        "m = N-N1\n",
        "n = N-N2"
      ],
      "execution_count": 41,
      "outputs": []
    },
    {
      "cell_type": "code",
      "metadata": {
        "id": "Iim1N--JFxRC"
      },
      "source": [
        "x =np.pad(x,(0,m),'constant')\n",
        "h =np.pad(h,(0,n),'constant')"
      ],
      "execution_count": 42,
      "outputs": []
    },
    {
      "cell_type": "code",
      "metadata": {
        "id": "mpss7JTYF0Ov"
      },
      "source": [
        "for n in range (N):\n",
        "    for k in range (N):\n",
        "        if n >= k:\n",
        "             y[n] = y[n]+x[n-k]*h[k]"
      ],
      "execution_count": 43,
      "outputs": []
    },
    {
      "cell_type": "code",
      "metadata": {
        "colab": {
          "base_uri": "https://localhost:8080/"
        },
        "id": "G2M9c8MlF1tM",
        "outputId": "30fa4b61-8129-4bd1-fe58-192b959d8eea"
      },
      "source": [
        "print('Linear convolution system using convolution sum formula output response y =\\n\\n',y)\n",
        "print('\\nLinear convolution system using NumPy built-in function output response y=\\n\\n',y1)"
      ],
      "execution_count": 45,
      "outputs": [
        {
          "output_type": "stream",
          "name": "stdout",
          "text": [
            "Linear convolution system using convolution sum formula output response y =\n",
            "\n",
            " [ 1.  4.  9. 14. 14. 11.  4. -2. -1.]\n",
            "\n",
            "Linear convolution system using NumPy built-in function output response y=\n",
            "\n",
            " [ 1  4  9 14 14 11  4 -2 -1]\n"
          ]
        }
      ]
    }
  ]
}